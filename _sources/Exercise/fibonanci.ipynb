{
 "cells": [
  {
   "cell_type": "markdown",
   "metadata": {},
   "source": [
    "# Deret Fibonanci"
   ]
  },
  {
   "cell_type": "code",
   "execution_count": 3,
   "metadata": {},
   "outputs": [
    {
     "name": "stdout",
     "output_type": "stream",
     "text": [
      "[0, 1, 1, 2, 3]\n"
     ]
    }
   ],
   "source": [
    "tmp=[]\n",
    "def fibonanci(n):\n",
    "    awal=[0,1]\n",
    "    if n==1:\n",
    "        tmp=[awal[0]]\n",
    "        return tmp\n",
    "    elif n==2:\n",
    "        tmp=[awal[1]]\n",
    "        return tmp\n",
    "    else:\n",
    "        for x in range(0,n):\n",
    "            if x!=0 and x!=1:\n",
    "                tmp=awal[x-1]+awal[x-2]\n",
    "                awal.append(tmp)\n",
    "        return awal\n",
    "print(fibonanci(5))"
   ]
  },
  {
   "cell_type": "code",
   "execution_count": null,
   "metadata": {},
   "outputs": [],
   "source": []
  }
 ],
 "metadata": {
  "kernelspec": {
   "display_name": "Python 3",
   "language": "python",
   "name": "python3"
  },
  "language_info": {
   "codemirror_mode": {
    "name": "ipython",
    "version": 3
   },
   "file_extension": ".py",
   "mimetype": "text/x-python",
   "name": "python",
   "nbconvert_exporter": "python",
   "pygments_lexer": "ipython3",
   "version": "3.8.5"
  }
 },
 "nbformat": 4,
 "nbformat_minor": 4
}
