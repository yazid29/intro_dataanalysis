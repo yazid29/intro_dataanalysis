{
 "cells": [
  {
   "cell_type": "markdown",
   "metadata": {},
   "source": [
    "# Prima & Fibonacci\n",
    "## Bilangan Prima\n",
    "Bilangan prima adalah bilangan bulat yang lebih besar dari 1 dan hanya memiliki dua faktor pembagi yang berbeda."
   ]
  },
  {
   "cell_type": "code",
   "execution_count": 22,
   "metadata": {},
   "outputs": [
    {
     "name": "stdout",
     "output_type": "stream",
     "text": [
      "29 adalah bilangan prima\n"
     ]
    }
   ],
   "source": [
    "def prime(number,x):\n",
    "    if x == 1:\n",
    "        return f\"{number} adalah bilangan prima\"\n",
    "    else:\n",
    "        return number % x != 0 and prime(number, x-1)\n",
    "\n",
    "def isprime(number):\n",
    "    return prime(number, number-1)\n",
    "\n",
    "print(isprime(29))"
   ]
  },
  {
   "cell_type": "markdown",
   "metadata": {},
   "source": [
    "## Deret Fibonacci \n",
    "Fibonacci adalah pola bilangan hasil penjumlahan dua bilangan sebelumnya."
   ]
  },
  {
   "cell_type": "code",
   "execution_count": 21,
   "metadata": {},
   "outputs": [
    {
     "name": "stdout",
     "output_type": "stream",
     "text": [
      "[0, 1, 1, 2, 3]\n"
     ]
    }
   ],
   "source": [
    "tmp=[]\n",
    "def fibonanci(n):\n",
    "    awal=[0,1]\n",
    "    if n==1:\n",
    "        tmp=[awal[0]]\n",
    "        return tmp\n",
    "    elif n==2:\n",
    "        tmp=[awal[1]]\n",
    "        return tmp\n",
    "    else:\n",
    "        for x in range(0,n):\n",
    "            if x!=0 and x!=1:\n",
    "                tmp=awal[x-1]+awal[x-2]\n",
    "                awal.append(tmp)\n",
    "        return awal\n",
    "print(fibonanci(5))"
   ]
  },
  {
   "cell_type": "code",
   "execution_count": null,
   "metadata": {},
   "outputs": [],
   "source": []
  }
 ],
 "metadata": {
  "kernelspec": {
   "display_name": "Python 3",
   "language": "python",
   "name": "python3"
  },
  "language_info": {
   "codemirror_mode": {
    "name": "ipython",
    "version": 3
   },
   "file_extension": ".py",
   "mimetype": "text/x-python",
   "name": "python",
   "nbconvert_exporter": "python",
   "pygments_lexer": "ipython3",
   "version": "3.8.5"
  }
 },
 "nbformat": 4,
 "nbformat_minor": 4
}
