{
 "cells": [
  {
   "cell_type": "markdown",
   "metadata": {},
   "source": [
    "# List\n",
    "\n",
    "list digunakan untuk menyimpan beberapa item dalam satu variabel.\n",
    "Python mempunyai beberapa tipe data built-in:\n",
    "Numerik, Boolean, Sequence (string, list, tuple, array), Dictionary dan Set.\n",
    "\n",
    "## create list"
   ]
  },
  {
   "cell_type": "code",
   "execution_count": 3,
   "metadata": {},
   "outputs": [
    {
     "name": "stdout",
     "output_type": "stream",
     "text": [
      "[2, 5, 8]\n",
      "['halo', 'bang']\n",
      "['pada', 'tahun', 2023]\n"
     ]
    }
   ],
   "source": [
    "a = [2, 5, 8]\n",
    "b = ['halo', 'bang']\n",
    "c = ['pada','tahun',2023]\n",
    "print(a)\n",
    "print(b)\n",
    "print(c)"
   ]
  },
  {
   "cell_type": "markdown",
   "metadata": {},
   "source": [
    "## create list part2 :Nested lists\n",
    "Nested lists (2D matrix). Memiliki baris dan kolom."
   ]
  },
  {
   "cell_type": "code",
   "execution_count": 4,
   "metadata": {},
   "outputs": [
    {
     "name": "stdout",
     "output_type": "stream",
     "text": [
      "[[1, 3, 5, 7], [2, 4, 6, 8], [11, 22, 33, 44]]\n",
      "1\n",
      "44\n"
     ]
    }
   ],
   "source": [
    "m = [\n",
    "[1, 3, 5, 7],\n",
    "[2, 4, 6, 8],\n",
    "[11, 22, 33, 44]\n",
    "]\n",
    "\n",
    "print(m)\n",
    "print(m[0][0])\n",
    "print(m[2][3])"
   ]
  },
  {
   "cell_type": "markdown",
   "metadata": {},
   "source": [
    "## Index & Slice\n",
    "\n",
    "Untuk operasi indexing dan slicing, list dan string mengikuti aturan yang sama."
   ]
  },
  {
   "cell_type": "code",
   "execution_count": 7,
   "metadata": {},
   "outputs": [
    {
     "name": "stdout",
     "output_type": "stream",
     "text": [
      "[123, 'abc', 'xyz']\n"
     ]
    }
   ],
   "source": [
    "a = [123, 'abc', 'xyz']\n",
    "print(a)"
   ]
  },
  {
   "cell_type": "markdown",
   "metadata": {},
   "source": [
    "Operasi indexing:\n",
    "0 1 2 indeks positif (kiri ke kanan)\n",
    "-3 -2 -1 indeks negatif (kanan ke kiri)\n",
    "\n",
    "Operasi slicing: a[start:end:step]\n",
    "• start: default = 0.\n",
    "• end: default adalah panjangnya.\n",
    "• step: default = 1."
   ]
  },
  {
   "cell_type": "code",
   "execution_count": 9,
   "metadata": {},
   "outputs": [
    {
     "name": "stdout",
     "output_type": "stream",
     "text": [
      "123\n",
      "abc\n",
      "xyz\n",
      "\n",
      "xyz\n",
      "abc\n"
     ]
    }
   ],
   "source": [
    "a = [123, 'abc', 'xyz']\n",
    "print(a[0])\n",
    "print(a[1])\n",
    "print(a[2])\n",
    "print()\n",
    "print(a[-1])\n",
    "print(a[-2])"
   ]
  },
  {
   "cell_type": "code",
   "execution_count": 14,
   "metadata": {},
   "outputs": [
    {
     "name": "stdout",
     "output_type": "stream",
     "text": [
      "[123, 'abc']\n",
      "[123, 'xyz']\n"
     ]
    }
   ],
   "source": [
    "a = [123, 'abc', 'xyz']\n",
    "print(a[0:2]) #index 0 dan 1\n",
    "print(a[0:3:2]) #index 0 dan 2"
   ]
  },
  {
   "cell_type": "markdown",
   "metadata": {},
   "source": [
    "## Loop list"
   ]
  },
  {
   "cell_type": "code",
   "execution_count": 15,
   "metadata": {},
   "outputs": [
    {
     "name": "stdout",
     "output_type": "stream",
     "text": [
      "apple\n",
      "banana\n",
      "cherry\n"
     ]
    }
   ],
   "source": [
    "thislist = [\"apple\", \"banana\", \"cherry\"]\n",
    "for x in thislist:\n",
    "  print(x)"
   ]
  },
  {
   "cell_type": "markdown",
   "metadata": {},
   "source": [
    "## List Comprehension\n",
    "\n",
    "Dengan list comprehension membuat sintaks menjadi lebih pendek."
   ]
  },
  {
   "cell_type": "code",
   "execution_count": 16,
   "metadata": {},
   "outputs": [
    {
     "name": "stdout",
     "output_type": "stream",
     "text": [
      "['apple', 'banana', 'mango']\n"
     ]
    }
   ],
   "source": [
    "fruits = [\"apple\", \"banana\", \"cherry\", \"kiwi\", \"mango\"]\n",
    "newlist = []\n",
    "\n",
    "for x in fruits:\n",
    "  if \"a\" in x:\n",
    "    newlist.append(x)\n",
    "\n",
    "print(newlist)"
   ]
  },
  {
   "cell_type": "markdown",
   "metadata": {},
   "source": [
    "Dengan list comprehension menjadi"
   ]
  },
  {
   "cell_type": "code",
   "execution_count": 17,
   "metadata": {},
   "outputs": [
    {
     "name": "stdout",
     "output_type": "stream",
     "text": [
      "['apple', 'banana', 'mango']\n"
     ]
    }
   ],
   "source": [
    "fruits = [\"apple\", \"banana\", \"cherry\", \"kiwi\", \"mango\"]\n",
    "\n",
    "newlist = [x for x in fruits if \"a\" in x]\n",
    "\n",
    "print(newlist)"
   ]
  },
  {
   "cell_type": "code",
   "execution_count": null,
   "metadata": {},
   "outputs": [],
   "source": []
  }
 ],
 "metadata": {
  "kernelspec": {
   "display_name": "Python 3",
   "language": "python",
   "name": "python3"
  },
  "language_info": {
   "codemirror_mode": {
    "name": "ipython",
    "version": 3
   },
   "file_extension": ".py",
   "mimetype": "text/x-python",
   "name": "python",
   "nbconvert_exporter": "python",
   "pygments_lexer": "ipython3",
   "version": "3.8.5"
  }
 },
 "nbformat": 4,
 "nbformat_minor": 4
}
