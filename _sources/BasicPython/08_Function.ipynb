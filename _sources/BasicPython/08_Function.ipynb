{
 "cells": [
  {
   "cell_type": "markdown",
   "metadata": {},
   "source": [
    "# Function\n",
    "\n",
    "Fungsi atau function merupakan unit dasar yang mengambil data input dan mengembalikan hasil output. Dalam python fungsi didefinisikan menggunakan kata kunci _def_"
   ]
  },
  {
   "cell_type": "code",
   "execution_count": 1,
   "metadata": {},
   "outputs": [],
   "source": [
    "def my_function():\n",
    "  print(\"Hello from a function\")"
   ]
  },
  {
   "cell_type": "code",
   "execution_count": 2,
   "metadata": {},
   "outputs": [
    {
     "name": "stdout",
     "output_type": "stream",
     "text": [
      "Hello from a function\n"
     ]
    }
   ],
   "source": [
    "#memanggil fungsi\n",
    "my_function()"
   ]
  },
  {
   "cell_type": "markdown",
   "metadata": {},
   "source": [
    "## Arguments\n",
    "Argumen ditentukan setelah nama fungsi, di dalam tanda kurung. Argumen dapat berisi sebanyak yang diinginkan, cukup pisahkan dengan koma."
   ]
  },
  {
   "cell_type": "code",
   "execution_count": 5,
   "metadata": {},
   "outputs": [
    {
     "name": "stdout",
     "output_type": "stream",
     "text": [
      "Ahmad Munif\n",
      "Yazid Munif\n"
     ]
    }
   ],
   "source": [
    "def my_function(fname):\n",
    "  print(fname + \" Munif\")\n",
    "\n",
    "#memanggil fungsi\n",
    "my_function(\"Ahmad\")\n",
    "my_function(\"Yazid\")"
   ]
  },
  {
   "cell_type": "code",
   "execution_count": 6,
   "metadata": {},
   "outputs": [
    {
     "name": "stdout",
     "output_type": "stream",
     "text": [
      "Ahmad Yazid\n"
     ]
    }
   ],
   "source": [
    "#fungsi dengan argumen lebih dari 1\n",
    "def my_function(fname, lname):\n",
    "  print(fname + \" \" + lname)\n",
    "\n",
    "my_function(\"Ahmad\", \"Yazid\")"
   ]
  },
  {
   "cell_type": "markdown",
   "metadata": {},
   "source": [
    "## Return Values\n",
    "\n",
    "Suatu fungsi dapat mempunyai satu atau lebih atau tanpa pernyataan return. Fungsi dapat mengembalikan (return) suatu nilai, variabel, atau ekspresi."
   ]
  },
  {
   "cell_type": "code",
   "execution_count": 10,
   "metadata": {},
   "outputs": [
    {
     "name": "stdout",
     "output_type": "stream",
     "text": [
      "My Score\n",
      "Grade:  A\n"
     ]
    }
   ],
   "source": [
    "def showmsg(message): # a function without a return\n",
    "    print(message)\n",
    "def compGrade(score): # a function with multiple returns\n",
    "    if 90 < score and score <= 100:\n",
    "        return 'A'\n",
    "    elif 70 < score and score <= 90:\n",
    "        return 'B'\n",
    "    elif 50 < score and score <= 70:\n",
    "        return 'C'\n",
    "    else:\n",
    "        return 'D'\n",
    "\n",
    "#---- executable code (main program) -----\n",
    "showmsg('My Score')\n",
    "s = 92\n",
    "g = compGrade(s)\n",
    "print(\"Grade: \", g)"
   ]
  },
  {
   "cell_type": "code",
   "execution_count": null,
   "metadata": {},
   "outputs": [],
   "source": []
  }
 ],
 "metadata": {
  "kernelspec": {
   "display_name": "Python 3",
   "language": "python",
   "name": "python3"
  },
  "language_info": {
   "codemirror_mode": {
    "name": "ipython",
    "version": 3
   },
   "file_extension": ".py",
   "mimetype": "text/x-python",
   "name": "python",
   "nbconvert_exporter": "python",
   "pygments_lexer": "ipython3",
   "version": "3.8.5"
  }
 },
 "nbformat": 4,
 "nbformat_minor": 4
}
