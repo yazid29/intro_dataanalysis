{
 "cells": [
  {
   "cell_type": "markdown",
   "metadata": {},
   "source": [
    "# Condition\n",
    "\n",
    "## Operator Relasional\n",
    "Suatu ekspresi dengan operator relasional mengembalikan nilai Boolean: True atau False.\n"
   ]
  },
  {
   "cell_type": "code",
   "execution_count": 1,
   "metadata": {},
   "outputs": [
    {
     "name": "stdout",
     "output_type": "stream",
     "text": [
      "2 < 3:  True\n",
      "4 <= 1:  False\n"
     ]
    }
   ],
   "source": [
    "print(\"2 < 3: \", 2 < 3) \n",
    "print(\"4 <= 1: \", 4 <= 1)"
   ]
  },
  {
   "cell_type": "code",
   "execution_count": 2,
   "metadata": {},
   "outputs": [
    {
     "name": "stdout",
     "output_type": "stream",
     "text": [
      "0 (integer):  False\n",
      "0.0 (float):  False\n",
      "'' (empty str):  False\n",
      "[] (empty list):  False\n",
      "None:  False\n"
     ]
    }
   ],
   "source": [
    "#----- 0/0.0/None/empty-struct diperlakukan sebagai False\n",
    "a = 0\n",
    "b = 0.0\n",
    "c = ''\n",
    "d = []\n",
    "e = None\n",
    "print(\"0 (integer): \", bool(a))\n",
    "print(\"0.0 (float): \", bool(b))\n",
    "print(\"'' (empty str): \", bool(c)) \n",
    "print(\"[] (empty list): \", bool(d))\n",
    "print(\"None: \", bool(e))"
   ]
  },
  {
   "cell_type": "code",
   "execution_count": 3,
   "metadata": {},
   "outputs": [
    {
     "name": "stdout",
     "output_type": "stream",
     "text": [
      "3:  True\n",
      "'hello':  True\n"
     ]
    }
   ],
   "source": [
    "#----- Selain itu dianggap True\n",
    "a = 3\n",
    "b = \"hello\"\n",
    "print(\"3: \", bool(a))\n",
    "print(\"'hello': \", bool(b))"
   ]
  },
  {
   "cell_type": "markdown",
   "metadata": {},
   "source": [
    "# Condition and If statements\n",
    "\n",
    "Python mendukung kondisi logis yang terdapat di matematika\n",
    "\n",
    "Sama dengan: a == b\n",
    "Tidak Sama dengan: a != b\n",
    "Kurang dari: a < b\n",
    "Kurang dari atau sama dengan: a <= b\n",
    "Lebih besar dari: a > b\n",
    "Lebih besar dari atau sama dengan: a >= b\n",
    "\n",
    "## If statement\n",
    "Ekspresi yang memberikan suatu nilai Boolean (True atau False). Pernyataan di dalamnya yang cocok dengan ekspresi harus diinden dengan jarak yang sama, dan pastikan menggunakan tanda titik dua di ujung ekspresi.\n",
    "if ekspresi:\n",
    "    pernyataan_jika_cocok\n",
    "else:\n",
    "    penyataan_jika_tak_cocok"
   ]
  },
  {
   "cell_type": "code",
   "execution_count": 4,
   "metadata": {},
   "outputs": [
    {
     "name": "stdout",
     "output_type": "stream",
     "text": [
      "x is:  5\n",
      "y is:  10\n",
      "x lebih kecil dari y\n"
     ]
    }
   ],
   "source": [
    "x=5\n",
    "y=10\n",
    "if x > y:\n",
    "    print(\"x is: \", x)\n",
    "    print(\"y is: \", y)\n",
    "    print(\"x lebih besar dari y\")\n",
    "else:\n",
    "    print(\"x is: \", x)\n",
    "    print(\"y is: \", y)\n",
    "    print(\"x lebih kecil dari y\")"
   ]
  },
  {
   "cell_type": "markdown",
   "metadata": {},
   "source": [
    "## Logical Operators\n",
    "\n",
    "Ada tiga logical operators: and, or, not"
   ]
  },
  {
   "cell_type": "code",
   "execution_count": 7,
   "metadata": {},
   "outputs": [
    {
     "name": "stdout",
     "output_type": "stream",
     "text": [
      "area kecil\n",
      "Skor tidak valid:  40\n"
     ]
    }
   ],
   "source": [
    "lebar=5\n",
    "panjang=20\n",
    "if lebar < 10 and panjang <= 20:\n",
    "    print(\"area kecil\")\n",
    "\n",
    "score=40\n",
    "if score < 50 or score > 100:\n",
    "    print(\"Skor tidak valid: \", score)"
   ]
  },
  {
   "cell_type": "markdown",
   "metadata": {},
   "source": [
    "## if-elif-else\n",
    "\n",
    "if ekspresi:\n",
    "    pernyataan_jika_cocok\n",
    "elif ekspresi2:\n",
    "    pernyataan2_jika_cocok\n",
    "elif ekspresi3:\n",
    "    pernyataan3_jika_cocok\n",
    "else:\n",
    "    penyataan_jika_tak_ada_yg_cocok"
   ]
  },
  {
   "cell_type": "code",
   "execution_count": 8,
   "metadata": {},
   "outputs": [
    {
     "name": "stdout",
     "output_type": "stream",
     "text": [
      "Memilih angka tiga\n"
     ]
    }
   ],
   "source": [
    "num = 3\n",
    "if num == 1:\n",
    "    print(\"Memilih angka satu\")\n",
    "elif num == 2:\n",
    "    print(\"Memilih angka dua\")\n",
    "elif num == 3:\n",
    "    print(\"Memilih angka tiga\")\n",
    "else:\n",
    "    print(\"Invalid course number.\")"
   ]
  },
  {
   "cell_type": "markdown",
   "metadata": {},
   "source": [
    "## While Loops\n",
    "\n",
    "while loop merupakan struktur perulangan yang umum. Dengan while loop kita dapat mengeksekusi satu pernyataan selama kondisinya benar."
   ]
  },
  {
   "cell_type": "code",
   "execution_count": 9,
   "metadata": {},
   "outputs": [
    {
     "name": "stdout",
     "output_type": "stream",
     "text": [
      "k:  0\n",
      "k:  1\n",
      "k:  2\n",
      "k:  3\n",
      "k:  4\n",
      "k:  5\n",
      "k:  6\n",
      "k:  7\n",
      "k:  8\n",
      "k:  9\n"
     ]
    }
   ],
   "source": [
    "k = 0\n",
    "while k < 10:\n",
    "    print(\"k: \", k)\n",
    "    k = k + 1"
   ]
  },
  {
   "cell_type": "markdown",
   "metadata": {},
   "source": [
    "## The break Statement\n",
    "\n",
    "Dengan pernyataan break kita dapat menghentikan perulangan meskipun kondisi while benar:"
   ]
  },
  {
   "cell_type": "code",
   "execution_count": 10,
   "metadata": {},
   "outputs": [
    {
     "name": "stdout",
     "output_type": "stream",
     "text": [
      "1\n",
      "2\n",
      "3\n",
      "4\n"
     ]
    }
   ],
   "source": [
    "i = 1\n",
    "while i < 5:\n",
    "  print(i)\n",
    "  if i == 4:\n",
    "    break\n",
    "  i += 1"
   ]
  },
  {
   "cell_type": "markdown",
   "metadata": {},
   "source": [
    "## The continue Statement\n",
    "\n",
    "Dengan pernyataan continue kita dapat menghentikan iterasi saat ini, dan melanjutkan dengan iterasi berikutnya:"
   ]
  },
  {
   "cell_type": "code",
   "execution_count": 11,
   "metadata": {},
   "outputs": [
    {
     "name": "stdout",
     "output_type": "stream",
     "text": [
      "1\n",
      "3\n",
      "4\n",
      "5\n"
     ]
    }
   ],
   "source": [
    "f = 0\n",
    "while f < 5:\n",
    "  f += 1\n",
    "  if f == 2:\n",
    "    continue\n",
    "  print(f)"
   ]
  },
  {
   "cell_type": "markdown",
   "metadata": {},
   "source": [
    "## The else Statement\n",
    "Dengan pernyataan else kita dapat menjalankan blok kode satu kali ketika kondisi tidak lagi benar:"
   ]
  },
  {
   "cell_type": "code",
   "execution_count": 12,
   "metadata": {},
   "outputs": [
    {
     "name": "stdout",
     "output_type": "stream",
     "text": [
      "1\n",
      "2\n",
      "3\n",
      "4\n",
      "else: g = 5\n"
     ]
    }
   ],
   "source": [
    "g = 1\n",
    "while g < 5:\n",
    "    print (g)\n",
    "    g = g + 1\n",
    "else:\n",
    "    print(\"else: g =\", g)"
   ]
  },
  {
   "cell_type": "markdown",
   "metadata": {},
   "source": [
    "## for loops\n",
    "Suatu for loop bergerak melalui grup item seperti string, list, tuple, dll.\n",
    "Dapat menggunakan fungsi range yang mengembalikan suatu deretan angka (integer)."
   ]
  },
  {
   "cell_type": "code",
   "execution_count": 14,
   "metadata": {},
   "outputs": [
    {
     "name": "stdout",
     "output_type": "stream",
     "text": [
      "loop menggunakan fungsi range\n",
      "k:  0\n",
      "k:  1\n",
      "k:  2\n",
      "k:  3\n",
      "k:  4\n",
      "k:  5\n",
      "k:  6\n",
      "k:  7\n",
      "k:  8\n",
      "k:  9\n",
      "k:  10\n",
      "loop string\n",
      "1\n",
      "2\n",
      "3\n",
      "a\n",
      "s\n",
      "h\n"
     ]
    }
   ],
   "source": [
    "print(\"loop menggunakan fungsi range\")\n",
    "for k in range(0, 11):\n",
    "    print(\"k: \", k)\n",
    "\n",
    "print(\"loop string\")\n",
    "p = \"123ash\"\n",
    "for c in p:\n",
    "    print(c)\n"
   ]
  },
  {
   "cell_type": "markdown",
   "metadata": {},
   "source": [
    "## Range Function\n",
    "Fungsi range membutuhkan 3 argumen: range(start, end, step)\n",
    "• start: jika dihilangkan, nilai defaultnya adalah 0.\n",
    "• end: harus disediakan. Jika hanya satu argumen yang diberikan, itu adalah nilai 'akhir': range(end).\n",
    "• step: jika dihilangkan, nilai defaultnya adalah 1: range(start,end)."
   ]
  },
  {
   "cell_type": "code",
   "execution_count": 24,
   "metadata": {},
   "outputs": [
    {
     "name": "stdout",
     "output_type": "stream",
     "text": [
      "0|1|2|3|4|\n",
      "\n",
      "1|2|3|4|\n",
      "\n",
      "1|3|5|7|9|"
     ]
    }
   ],
   "source": [
    "demo = range(5)\n",
    "for i in demo:\n",
    "    print(i, end='|') # 0|1|2|3|4|\n",
    "print('\\n')\n",
    "demo = range(1, 5)\n",
    "for i in demo:\n",
    "    print(i, end='|') # 1|2|3|4|\n",
    "print('\\n')\n",
    "demo2 = range(1, 10, 2)\n",
    "for i in demo2:\n",
    "    print(i, end='|') # 4|6|8|"
   ]
  },
  {
   "cell_type": "markdown",
   "metadata": {},
   "source": [
    "## Nested for loops (Loop bersarang)"
   ]
  },
  {
   "cell_type": "code",
   "execution_count": 29,
   "metadata": {},
   "outputs": [
    {
     "name": "stdout",
     "output_type": "stream",
     "text": [
      "---------------------\n",
      "1 2 3 4 5 \n",
      "2 4 6 8 10 \n",
      "3 6 9 12 15 \n",
      "4 8 12 16 20 \n",
      "5 10 15 20 25 \n",
      "---------------------\n"
     ]
    }
   ],
   "source": [
    "nRows = 6\n",
    "nCols = 6\n",
    "print(\"---------------------\")\n",
    "for i in range(1, nRows):\n",
    "    for j in range(1, nCols):\n",
    "        product = i * j\n",
    "        print(product, end=' ')\n",
    "    print()\n",
    "print(\"---------------------\")\n"
   ]
  },
  {
   "cell_type": "markdown",
   "metadata": {},
   "source": [
    "## Output format"
   ]
  },
  {
   "cell_type": "code",
   "execution_count": 53,
   "metadata": {},
   "outputs": [
    {
     "name": "stdout",
     "output_type": "stream",
     "text": [
      "---------------------\n",
      "    1    2    3    4    5\n",
      "    2    4    6    8   10\n",
      "    3    6    9   12   15\n",
      "    4    8   12   16   20\n",
      "    5   10   15   20   25\n",
      "---------------------\n",
      "Floating point      3.140\n",
      "Floating point 3.14\n"
     ]
    }
   ],
   "source": [
    "nRows = 6\n",
    "nCols = 6\n",
    "print(\"---------------------\")\n",
    "for i in range(1, nRows):\n",
    "    for j in range(1, nCols):\n",
    "        product = i * j\n",
    "        print('{0:5}'.format(product), end='') #'{0:4}'.format(string) - dengan 4 spasi\n",
    "    print()\n",
    "print(\"---------------------\")\n",
    "print(\"Floating point {0:10.3f}\".format(3.14))\n",
    "print(\"Floating point {0}\".format(3.14))"
   ]
  },
  {
   "cell_type": "code",
   "execution_count": null,
   "metadata": {},
   "outputs": [],
   "source": []
  }
 ],
 "metadata": {
  "kernelspec": {
   "display_name": "Python 3",
   "language": "python",
   "name": "python3"
  },
  "language_info": {
   "codemirror_mode": {
    "name": "ipython",
    "version": 3
   },
   "file_extension": ".py",
   "mimetype": "text/x-python",
   "name": "python",
   "nbconvert_exporter": "python",
   "pygments_lexer": "ipython3",
   "version": "3.8.5"
  }
 },
 "nbformat": 4,
 "nbformat_minor": 4
}
