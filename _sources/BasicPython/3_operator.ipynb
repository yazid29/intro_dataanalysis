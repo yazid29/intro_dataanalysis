{
 "cells": [
  {
   "cell_type": "markdown",
   "metadata": {},
   "source": [
    "# Operator\n",
    "\n",
    "Operator digunakan untuk melakukan operasi pada variabel dan nilai\n",
    "\n"
   ]
  },
  {
   "cell_type": "code",
   "execution_count": 4,
   "metadata": {},
   "outputs": [
    {
     "name": "stdout",
     "output_type": "stream",
     "text": [
      "Addition : 10\n",
      "Subtraction: 6\n",
      "Multiplication: 16\n",
      "Division: 4.0\n",
      "Modulus: 0\n",
      "Exponentiation: 64\n",
      "Floor division: 4\n"
     ]
    }
   ],
   "source": [
    "## +\tAddition\tx + y / Penjumlahan\n",
    "x=8\n",
    "y=2\n",
    "print(\"Addition :\",x+y)\n",
    "## -\tSubtraction\tx - y |Pengurangan\n",
    "print(\"Subtraction:\",x-y)\n",
    "## *\tMultiplication\tx * y |Perkalian\n",
    "print(\"Multiplication:\",x*y)\n",
    "## /\tDivision\tx / y |Pembagian\n",
    "print(\"Division:\",x/y)\n",
    "## %\tModulus\tx % y |Sisa Bagi\n",
    "print(\"Modulus:\",x%y)\n",
    "## **\tExponentiation\tx ** y |Pangkat\n",
    "print(\"Exponentiation:\",x**y)\n",
    "## //\tFloor division\tx // y |Pembulatan kebawah\n",
    "print(\"Floor division:\",x//y)"
   ]
  },
  {
   "cell_type": "code",
   "execution_count": null,
   "metadata": {},
   "outputs": [],
   "source": []
  }
 ],
 "metadata": {
  "kernelspec": {
   "display_name": "Python 3",
   "language": "python",
   "name": "python3"
  },
  "language_info": {
   "codemirror_mode": {
    "name": "ipython",
    "version": 3
   },
   "file_extension": ".py",
   "mimetype": "text/x-python",
   "name": "python",
   "nbconvert_exporter": "python",
   "pygments_lexer": "ipython3",
   "version": "3.8.5"
  }
 },
 "nbformat": 4,
 "nbformat_minor": 4
}
