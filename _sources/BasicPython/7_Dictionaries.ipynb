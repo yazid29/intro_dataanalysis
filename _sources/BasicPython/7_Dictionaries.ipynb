{
 "cells": [
  {
   "cell_type": "markdown",
   "metadata": {},
   "source": [
    "# Dictionaries\n",
    "\n",
    "Dictionaries digunakan untuk menyimpan data dengan pasangan key:value."
   ]
  },
  {
   "cell_type": "code",
   "execution_count": 1,
   "metadata": {},
   "outputs": [
    {
     "name": "stdout",
     "output_type": "stream",
     "text": [
      "first\n",
      "second\n",
      "third\n"
     ]
    }
   ],
   "source": [
    "dic = {\"first\": 1, \"second\": 2, \"third\": 3}\n",
    "for i in dic:\n",
    "    print(i)\n"
   ]
  },
  {
   "cell_type": "code",
   "execution_count": 2,
   "metadata": {},
   "outputs": [
    {
     "name": "stdout",
     "output_type": "stream",
     "text": [
      "{'first': 1, 'second': 2, 'third': 3}\n",
      "{'first': 1, 'second': 2, 'third': 3, 'fourth': 4}\n"
     ]
    }
   ],
   "source": [
    "#add elemen to dict\n",
    "\n",
    "dic = {\"first\": 1, \"second\": 2, \"third\": 3}\n",
    "print(dic)\n",
    "dic[\"fourth\"] = 4\n",
    "print(dic)"
   ]
  },
  {
   "cell_type": "code",
   "execution_count": 3,
   "metadata": {},
   "outputs": [
    {
     "name": "stdout",
     "output_type": "stream",
     "text": [
      "{'first': 1, 'second': 2, 'third': 3}\n",
      "{'first': 1, 'second': 2, 'third': 3, 'fourth': 4}\n",
      "{'second': 2, 'third': 3, 'fourth': 4}\n"
     ]
    }
   ],
   "source": [
    "#hapus elemen dict dengan del\n",
    "\n",
    "dic = {\"first\": 1, \"second\": 2, \"third\": 3}\n",
    "print(dic)\n",
    "dic[\"fourth\"] = 4\n",
    "print(dic)\n",
    "del dic[\"first\"]\n",
    "print(dic)"
   ]
  },
  {
   "cell_type": "code",
   "execution_count": 6,
   "metadata": {},
   "outputs": [
    {
     "name": "stdout",
     "output_type": "stream",
     "text": [
      "{'first': 1, 'second': 2, 'third': 3}\n",
      "{'first': 1, 'second': 2, 'third': 3, 'fourth': 4}\n",
      "{'second': 2, 'third': 3, 'fourth': 4}\n"
     ]
    }
   ],
   "source": [
    "#hapus elemen dict dengan pop\n",
    "\n",
    "dic = {\"first\": 1, \"second\": 2, \"third\": 3}\n",
    "print(dic)\n",
    "dic[\"fourth\"] = 4\n",
    "print(dic)\n",
    "dic.pop(\"first\")\n",
    "print(dic)"
   ]
  },
  {
   "cell_type": "markdown",
   "metadata": {},
   "source": [
    "## fungsi dictionaries\n",
    "\n",
    "dic.clear() Menghapus semua elemen dari kamus dic\n",
    "dic.copy() Mengembalikan salinan kamus dic\n",
    "dic.items() Mengembalikan daftar yang berisi tuple untuk setiap pasangan nilai kunci kamus dic\n",
    "dic.get(k) Mengembalikan nilai kunci k yang ditentukan dari kamus dic\n",
    "dic.keys() Mengembalikan daftar yang berisi semua kunci kamus dic\n",
    "dic.pop(k) Menghapus elemen dengan kunci tertentu k dari kamus di"
   ]
  }
 ],
 "metadata": {
  "kernelspec": {
   "display_name": "Python 3",
   "language": "python",
   "name": "python3"
  },
  "language_info": {
   "codemirror_mode": {
    "name": "ipython",
    "version": 3
   },
   "file_extension": ".py",
   "mimetype": "text/x-python",
   "name": "python",
   "nbconvert_exporter": "python",
   "pygments_lexer": "ipython3",
   "version": "3.8.5"
  }
 },
 "nbformat": 4,
 "nbformat_minor": 4
}
