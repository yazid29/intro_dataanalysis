{
 "cells": [
  {
   "cell_type": "markdown",
   "metadata": {},
   "source": [
    "# Exercise\n",
    "\n",
    "## Bilangan Prima\n",
    "Bilangan prima adalah bilangan bulat yang lebih besar dari 1 dan hanya memiliki dua faktor pembagi yang berbeda."
   ]
  },
  {
   "cell_type": "code",
   "execution_count": 14,
   "metadata": {},
   "outputs": [
    {
     "name": "stdout",
     "output_type": "stream",
     "text": [
      "29 adalah bilangan prima\n"
     ]
    }
   ],
   "source": [
    "def prime(number,x):\n",
    "    if x == 1:\n",
    "        return f\"{number} adalah bilangan prima\"\n",
    "    else:\n",
    "        return number % x != 0 and prime(number, x-1)\n",
    "\n",
    "def isprime(number):\n",
    "    return prime(number, number-1)\n",
    "\n",
    "print(isprime(29))"
   ]
  },
  {
   "cell_type": "markdown",
   "metadata": {},
   "source": [
    "## Deret Fibonacci \n",
    "Fibonacci adalah pola bilangan hasil penjumlahan dua bilangan sebelumnya."
   ]
  },
  {
   "cell_type": "code",
   "execution_count": 2,
   "metadata": {},
   "outputs": [
    {
     "name": "stdout",
     "output_type": "stream",
     "text": [
      "[0, 1, 1, 2, 3]\n"
     ]
    }
   ],
   "source": [
    "tmp=[]\n",
    "def fibonanci(n):\n",
    "    awal=[0,1]\n",
    "    if n==1:\n",
    "        tmp=[awal[0]]\n",
    "        return tmp\n",
    "    elif n==2:\n",
    "        tmp=[awal[1]]\n",
    "        return tmp\n",
    "    else:\n",
    "        for x in range(0,n):\n",
    "            if x!=0 and x!=1:\n",
    "                tmp=awal[x-1]+awal[x-2]\n",
    "                awal.append(tmp)\n",
    "        return awal\n",
    "print(fibonanci(5))"
   ]
  },
  {
   "cell_type": "markdown",
   "metadata": {},
   "source": [
    "## Bilangan Ganjil"
   ]
  },
  {
   "cell_type": "code",
   "execution_count": 3,
   "metadata": {},
   "outputs": [
    {
     "name": "stdout",
     "output_type": "stream",
     "text": [
      "[1, 3, 5, 7, 9, 11, 13, 15, 17, 19]\n"
     ]
    }
   ],
   "source": [
    "angka=[1,2,3,4,5,6,7,8,9,10,11,12,13,14,15,16,17,18,19,20]\n",
    "ind=0\n",
    "prime=[]\n",
    "while ind<len(angka):\n",
    "    if angka[ind]%2==0:\n",
    "        ind=ind+1\n",
    "    else:\n",
    "        prime.append(angka[ind])\n",
    "        ind=ind+1\n",
    "print(prime)"
   ]
  },
  {
   "cell_type": "code",
   "execution_count": 4,
   "metadata": {},
   "outputs": [
    {
     "name": "stdout",
     "output_type": "stream",
     "text": [
      "19 adalah bilangan ganjil\n"
     ]
    }
   ],
   "source": [
    "def ganjil(number):\n",
    "    if (number % 2 != 0):\n",
    "        return f\"{number} adalah bilangan ganjil\"\n",
    "    else:\n",
    "        return f\"{number} bukan bilangan ganjil\"\n",
    "\n",
    "print(ganjil(19))"
   ]
  },
  {
   "cell_type": "markdown",
   "metadata": {},
   "source": [
    "## List"
   ]
  },
  {
   "cell_type": "code",
   "execution_count": 5,
   "metadata": {},
   "outputs": [
    {
     "name": "stdout",
     "output_type": "stream",
     "text": [
      "84.6\n"
     ]
    }
   ],
   "source": [
    "## Mean\n",
    "sum=0\n",
    "ind=0\n",
    "score=[88,85,79,90,81]\n",
    "while ind<len(score):\n",
    "    sum=sum+score[ind]\n",
    "    ind=ind+1\n",
    "mean=sum/ind\n",
    "print(mean)"
   ]
  },
  {
   "cell_type": "code",
   "execution_count": 6,
   "metadata": {
    "scrolled": true
   },
   "outputs": [
    {
     "name": "stdout",
     "output_type": "stream",
     "text": [
      "data1 panjang: 10\n",
      "data2 panjang: 10\n",
      "hasil:  [11, 10, 8, 10, 12, 9, 8, 13, 12, 12]\n"
     ]
    }
   ],
   "source": [
    "data1=[1,2,3,4,5,6,7,8,9,10]\n",
    "data2=[10,8,5,6,7,3,1,5,3,2]\n",
    "print('data1 panjang:',len(data1))\n",
    "print('data2 panjang:',len(data2))\n",
    "ind=0\n",
    "hasil=[]\n",
    "while ind<len(data1 and data2):\n",
    "    if len(data1)==len(data2):\n",
    "        hasil.append(data1[ind]+data2[ind])\n",
    "        ind=ind+1\n",
    "    else:\n",
    "        print (\"Jumlah matriks1 dan matriks2 tidak sama..\")\n",
    "        ind=len(data1 and data2)\n",
    "print(\"hasil: \",hasil)"
   ]
  },
  {
   "cell_type": "code",
   "execution_count": 7,
   "metadata": {},
   "outputs": [
    {
     "name": "stdout",
     "output_type": "stream",
     "text": [
      "1 0 7 \n",
      "0 0 2 \n",
      "4 0 0 \n"
     ]
    }
   ],
   "source": [
    "#sparse matrix\n",
    "a={(1,2):2,(2,0):4}\n",
    "b={(0,0):1,(0,2):7}\n",
    "\n",
    "for x in range(0,3):\n",
    "    for y in range(0,3):\n",
    "        c=a.get((x,y),0)+b.get((x,y),0)\n",
    "        print(c, end=' ')\n",
    "    print()"
   ]
  },
  {
   "cell_type": "markdown",
   "metadata": {},
   "source": [
    "# String"
   ]
  },
  {
   "cell_type": "code",
   "execution_count": 8,
   "metadata": {},
   "outputs": [
    {
     "name": "stdout",
     "output_type": "stream",
     "text": [
      "3\n"
     ]
    }
   ],
   "source": [
    "data='Where is Waldo? I think Waldo is hiding behind the wall, we have to find Waldo before the game is ended'\n",
    "print (data.count('Waldo'))"
   ]
  },
  {
   "cell_type": "code",
   "execution_count": 9,
   "metadata": {},
   "outputs": [
    {
     "name": "stdout",
     "output_type": "stream",
     "text": [
      "huruf vokal=['a', 'a', 'a', 'i', 'u', 'i']\n",
      "huruf konsonan=['h', 'm', 'd', ' ', 'y', 'z', 'd', ' ', 'm', 'n', 'f']\n",
      "jumlah huruf a= 3\n",
      "jumlah huruf i= 2\n",
      "jumlah huruf u= 1\n",
      "jumlah huruf e= 0\n",
      "jumlah huruf o= 0\n"
     ]
    }
   ],
   "source": [
    "def cek(kata):\n",
    "    vokal=[]\n",
    "    konsonan=[]\n",
    "    i=0\n",
    "    while i<len(kata):\n",
    "        if kata[i]=='a' or kata[i]=='i' or kata[i]=='u' or kata[i]=='e' or kata[i]=='o':\n",
    "            vokal= vokal+[kata[i]]\n",
    "        elif kata[i]=='A' or kata[i]=='I' or kata[i]=='U' or kata[i]=='E' or kata[i]=='O':\n",
    "            vokal= vokal+[kata[i]]\n",
    "        else:\n",
    "            konsonan=konsonan+[kata[i]]\n",
    "        i=i+1\n",
    "    print('huruf vokal='+str(vokal))\n",
    "    print('huruf konsonan='+str(konsonan))\n",
    "\n",
    "#main program\n",
    "kata=\"ahmad yazid munif\"\n",
    "cek(kata)\n",
    "\n",
    "ja=0\n",
    "ji=0\n",
    "ju=0\n",
    "je=0\n",
    "jo=0\n",
    "\n",
    "for huruf in kata:\n",
    "    if(huruf in ['A','a']):\n",
    "        ja=ja+1\n",
    "    elif (huruf in ['I','i']):\n",
    "        ji=ji+1\n",
    "    elif (huruf in ['U','u']):\n",
    "        ju=ju+1\n",
    "    elif (huruf in ['E','e']):\n",
    "        je=je+1\n",
    "    elif (huruf in ['O','o']):\n",
    "        jo=jo+1\n",
    "print ('jumlah huruf a=',ja)\n",
    "print ('jumlah huruf i=',ji)\n",
    "print ('jumlah huruf u=',ju)\n",
    "print ('jumlah huruf e=',je)\n",
    "print ('jumlah huruf o=',jo)"
   ]
  },
  {
   "cell_type": "markdown",
   "metadata": {},
   "source": [
    "# Dictionary"
   ]
  },
  {
   "cell_type": "code",
   "execution_count": 10,
   "metadata": {},
   "outputs": [
    {
     "name": "stdout",
     "output_type": "stream",
     "text": [
      "{'satu': 'one', 'dua': 'two', 'tiga': 'three', 'empat': 'four'}\n",
      "{'one': 'satu', 'two': 'three'}\n",
      "{'chocolate': 20, 'cracker': 15, 'candy': 38, 'biscuit': 5}\n",
      "{'chocolate': 20, 'cracker': 15, 'biscuit': 5}\n",
      "{'chocolate': 20, 'cracker': 15, 'biscuit': 5, 'candy': 0}\n",
      "jumlah snacks 4\n"
     ]
    }
   ],
   "source": [
    "in2en={}\n",
    "in2en['satu']='one'\n",
    "in2en['dua']='two'\n",
    "in2en['tiga']='three'\n",
    "in2en['empat']='four'\n",
    "print(in2en)\n",
    "\n",
    "enDict={'one':'satu', 'two':'three'}\n",
    "print(enDict)\n",
    "\n",
    "\n",
    "snacks={}\n",
    "snacks['chocolate']=20\n",
    "snacks['cracker']=15\n",
    "snacks['candy']=38\n",
    "snacks['biscuit']=5\n",
    "\n",
    "print(snacks)\n",
    "del snacks['candy']\n",
    "print(snacks)\n",
    "snacks['candy']=0\n",
    "print(snacks)\n",
    "print('jumlah snacks',len(snacks))"
   ]
  },
  {
   "cell_type": "code",
   "execution_count": null,
   "metadata": {},
   "outputs": [],
   "source": []
  }
 ],
 "metadata": {
  "kernelspec": {
   "display_name": "Python 3",
   "language": "python",
   "name": "python3"
  },
  "language_info": {
   "codemirror_mode": {
    "name": "ipython",
    "version": 3
   },
   "file_extension": ".py",
   "mimetype": "text/x-python",
   "name": "python",
   "nbconvert_exporter": "python",
   "pygments_lexer": "ipython3",
   "version": "3.8.5"
  }
 },
 "nbformat": 4,
 "nbformat_minor": 4
}
