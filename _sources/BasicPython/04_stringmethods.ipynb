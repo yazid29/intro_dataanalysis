{
 "cells": [
  {
   "cell_type": "markdown",
   "metadata": {},
   "source": [
    "# String-methods\n",
    "\n",
    "String dalam python dikelilingi oleh tanda kutip tunggal, atau tanda kutip ganda."
   ]
  },
  {
   "cell_type": "code",
   "execution_count": 1,
   "metadata": {},
   "outputs": [
    {
     "name": "stdout",
     "output_type": "stream",
     "text": [
      "Hello\n",
      "Hello\n"
     ]
    }
   ],
   "source": [
    "print(\"Hello\")\n",
    "print('Hello')"
   ]
  },
  {
   "cell_type": "markdown",
   "metadata": {},
   "source": [
    "Menetapkan string ke variabel dilakukan dengan nama variabel diikuti dengan tanda sama dengan dan string"
   ]
  },
  {
   "cell_type": "code",
   "execution_count": 2,
   "metadata": {},
   "outputs": [
    {
     "name": "stdout",
     "output_type": "stream",
     "text": [
      "Hello\n"
     ]
    }
   ],
   "source": [
    "a = \"Hello\"\n",
    "print(a)"
   ]
  },
  {
   "cell_type": "markdown",
   "metadata": {},
   "source": [
    "## Multiline Strings\n",
    "Dapat menetapkan _multiline string_ pada variabel menggunakan 3 _quotes_"
   ]
  },
  {
   "cell_type": "code",
   "execution_count": 3,
   "metadata": {},
   "outputs": [
    {
     "name": "stdout",
     "output_type": "stream",
     "text": [
      "Lorem ipsum dolor sit amet,\n",
      "consectetur adipiscing elit,\n",
      "sed do eiusmod tempor incididunt\n",
      "ut labore et dolore magna aliqua.\n"
     ]
    }
   ],
   "source": [
    "a = \"\"\"Lorem ipsum dolor sit amet,\n",
    "consectetur adipiscing elit,\n",
    "sed do eiusmod tempor incididunt\n",
    "ut labore et dolore magna aliqua.\"\"\"\n",
    "print(a)"
   ]
  },
  {
   "cell_type": "markdown",
   "metadata": {},
   "source": [
    "## Strings are Arrays"
   ]
  },
  {
   "cell_type": "code",
   "execution_count": 4,
   "metadata": {},
   "outputs": [
    {
     "name": "stdout",
     "output_type": "stream",
     "text": [
      "e\n"
     ]
    }
   ],
   "source": [
    "a = \"Hello, World!\"\n",
    "print(a[1])"
   ]
  },
  {
   "cell_type": "markdown",
   "metadata": {},
   "source": [
    "## String Length"
   ]
  },
  {
   "cell_type": "code",
   "execution_count": 5,
   "metadata": {},
   "outputs": [
    {
     "name": "stdout",
     "output_type": "stream",
     "text": [
      "13\n"
     ]
    }
   ],
   "source": [
    "a = \"Hello, World!\"\n",
    "print(len(a))"
   ]
  },
  {
   "cell_type": "markdown",
   "metadata": {},
   "source": [
    "## Format %"
   ]
  },
  {
   "cell_type": "code",
   "execution_count": 2,
   "metadata": {},
   "outputs": [
    {
     "name": "stdout",
     "output_type": "stream",
     "text": [
      "Yazid is taking Python and PHP now.\n"
     ]
    }
   ],
   "source": [
    "name = \"Yazid\"\n",
    "ID = 105\n",
    "classA = \"Python\"\n",
    "classB = \"PHP\"\n",
    "demo = \"%s is taking %s and %s now.\" % (name, classA, classB)\n",
    "print(demo)"
   ]
  },
  {
   "cell_type": "markdown",
   "metadata": {},
   "source": [
    "## str.format()\n",
    "s adalah string yang tidak memiliki atau memiliki banyak kurung kurawal.\n",
    "Kurung kurawal memutuskan bagaimana parameter dimasukkan ke dalam pola.\n",
    "Kurung kurawal memiliki dua bagian: indeks parameter dan deskriptor.\n",
    "Indeks sebelum titik dua menunjukkan parameter mana yang akan diganti.\n",
    "Deskriptor setelah titik dua menggambarkan gaya parameter.\n",
    "\n",
    "Contoh:\n",
    "• {0:<4d} menyisip di posisi pertama, lebar 4 spasi, integer, rata kiri.\n",
    "• {1:>7s} posisi kedua, 7 spasi string, rata kanan.\n",
    "• {5:8.2f} posisi ke-6, lebar 8 spasi float, presisi 2 digit.\n",
    "• Jika indeks diabaikan, akan mengikuti urutan parameter default."
   ]
  },
  {
   "cell_type": "code",
   "execution_count": 5,
   "metadata": {},
   "outputs": [
    {
     "name": "stdout",
     "output_type": "stream",
     "text": [
      "22 33\n",
      "22       33      \n",
      "      22       33\n",
      "   22       33   \n"
     ]
    }
   ],
   "source": [
    "#integer format\n",
    "a = 22\n",
    "b = 33\n",
    "print(\"{0} {1}\".format(a, b))\n",
    "print(\"{0:<8d} {1:<8d}\".format(a, b)) # < agar left aligned\n",
    "print(\"{0:>8d} {1:>8d}\".format(a, b)) # > agar right aligned\n",
    "print(\"{0:^8d} {1:^8d}\".format(a, b)) # ^ agar center aligned"
   ]
  },
  {
   "cell_type": "code",
   "execution_count": 29,
   "metadata": {},
   "outputs": [
    {
     "name": "stdout",
     "output_type": "stream",
     "text": [
      "22.345 66.7894\n",
      "22.3450  66.7894 \n",
      "22.34    66.79   \n",
      "    22.3     66.8\n"
     ]
    }
   ],
   "source": [
    "#float format\n",
    "x = 22.345\n",
    "y = 66.7894\n",
    "print(\"{0} {1}\".format(x, y))\n",
    "print(\"{0:<8.4f} {1:<8.4f}\".format(x, y))\n",
    "print(\"{0:<8.2f} {1:<8.2f}\".format(x, y))\n",
    "print(\"{0:>8.1f} {1:>8.1f}\".format(x, y))"
   ]
  },
  {
   "cell_type": "code",
   "execution_count": 9,
   "metadata": {},
   "outputs": [
    {
     "name": "stdout",
     "output_type": "stream",
     "text": [
      "ahmad is first name, yazid is last name\n",
      "ahmad      is first name, yazid      is last name\n",
      "     ahmad is first name,      yazid is last name\n",
      "yazid      is first name, ahmad      is last name\n"
     ]
    }
   ],
   "source": [
    "#string format\n",
    "fn = \"ahmad\"\n",
    "ln = \"yazid\"\n",
    "print(\"{0} is first name, {1} is last name\".format(fn, ln))\n",
    "print(\"{0:<10s} is first name, {1:<10s} is last name\".format(fn, ln))\n",
    "print(\"{0:>10s} is first name, {1:>10s} is last name\".format(fn, ln))\n",
    "print(\"{1:<10s} is first name, {0:<10s} is last name\".format(fn, ln))"
   ]
  },
  {
   "cell_type": "markdown",
   "metadata": {},
   "source": [
    "## f-Strings\n",
    "f-Strings bermakna \"Formatted string literals\", diperkenalkan pada Python 3.6.\n",
    "Terdapat f atau F di awal dan kurung kurawal untuk ekspresi yang akan digantikan dengan nilai.\n",
    "{ var = } akan menghasilkan var = value."
   ]
  },
  {
   "cell_type": "code",
   "execution_count": 32,
   "metadata": {},
   "outputs": [
    {
     "name": "stdout",
     "output_type": "stream",
     "text": [
      "His name is Ahmad Yazid Munif with an ID of 105.\n"
     ]
    }
   ],
   "source": [
    "fname = \"Ahmad\"\n",
    "lname = \"Yazid Munif\"\n",
    "ID = 105\n",
    "test = f\"His name is {fname} {lname} with an ID of {ID}.\"\n",
    "print(test)"
   ]
  },
  {
   "cell_type": "code",
   "execution_count": 33,
   "metadata": {},
   "outputs": [
    {
     "name": "stdout",
     "output_type": "stream",
     "text": [
      "His name is Ahmad Yazid Munif with ID = 105.\n"
     ]
    }
   ],
   "source": [
    "test = f\"His name is {fname} {lname} with {ID = }.\"\n",
    "print(test)"
   ]
  },
  {
   "cell_type": "code",
   "execution_count": 37,
   "metadata": {},
   "outputs": [
    {
     "name": "stdout",
     "output_type": "stream",
     "text": [
      "Jean is reading Data Anlytics and Lisa is reading Python.\n"
     ]
    }
   ],
   "source": [
    "name1 = \"Jean\"\n",
    "name2 = \"Lisa\"\n",
    "book1 = \"Data Anlytics\"\n",
    "book2 = \"Python\"\n",
    "test = f\"{name1} is reading {book1}\" \\\n",
    "f\" and \" \\\n",
    "f\"{name2} is reading {book2}.\"\n",
    "print(test)"
   ]
  },
  {
   "cell_type": "code",
   "execution_count": 40,
   "metadata": {},
   "outputs": [
    {
     "name": "stdout",
     "output_type": "stream",
     "text": [
      "This Python book has 365 pages.\n",
      "This Python     book has    365     pages.\n",
      "This     Python book has        365 pages.\n"
     ]
    }
   ],
   "source": [
    "title = \"Python\"\n",
    "value = 365\n",
    "a = f\"This {title} book has {value} pages.\"\n",
    "b = f\"This {title:<10} book has {value:^10} pages.\"\n",
    "c = f\"This {title:>10} book has {value:>10} pages.\"\n",
    "print(a)\n",
    "print(b)\n",
    "print(c)"
   ]
  }
 ],
 "metadata": {
  "kernelspec": {
   "display_name": "Python 3",
   "language": "python",
   "name": "python3"
  },
  "language_info": {
   "codemirror_mode": {
    "name": "ipython",
    "version": 3
   },
   "file_extension": ".py",
   "mimetype": "text/x-python",
   "name": "python",
   "nbconvert_exporter": "python",
   "pygments_lexer": "ipython3",
   "version": "3.8.5"
  }
 },
 "nbformat": 4,
 "nbformat_minor": 4
}
