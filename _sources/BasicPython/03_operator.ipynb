{
 "cells": [
  {
   "cell_type": "markdown",
   "metadata": {},
   "source": [
    "# Operator\n",
    "\n",
    "Operator digunakan untuk melakukan operasi pada variabel dan nilai\n",
    "\n",
    "## Operator Aritmatika: + - * / % ** //"
   ]
  },
  {
   "cell_type": "code",
   "execution_count": 4,
   "metadata": {},
   "outputs": [
    {
     "name": "stdout",
     "output_type": "stream",
     "text": [
      "Addition : 10\n",
      "Subtraction: 6\n",
      "Multiplication: 16\n",
      "Division: 4.0\n",
      "Modulus: 0\n",
      "Exponentiation: 64\n",
      "Floor division: 4\n"
     ]
    }
   ],
   "source": [
    "## +\tAddition\tx + y / Penjumlahan\n",
    "x=8\n",
    "y=2\n",
    "print(\"Addition :\",x+y)\n",
    "## -\tSubtraction\tx - y |Pengurangan\n",
    "print(\"Subtraction:\",x-y)\n",
    "## *\tMultiplication\tx * y |Perkalian\n",
    "print(\"Multiplication:\",x*y)\n",
    "## /\tDivision\tx / y |Pembagian\n",
    "print(\"Division:\",x/y)\n",
    "## %\tModulus\tx % y |Sisa Bagi\n",
    "print(\"Modulus:\",x%y)\n",
    "## **\tExponentiation\tx ** y |Pangkat\n",
    "print(\"Exponentiation:\",x**y)\n",
    "## //\tFloor division\tx // y |Pembulatan kebawah\n",
    "print(\"Floor division:\",x//y)"
   ]
  },
  {
   "cell_type": "markdown",
   "metadata": {},
   "source": [
    "## Operator Relasional: ==, !=, <, <=, >, >=\n",
    "## Operator assignment: =, +=, -=, *=, /=, %=, **=, //=,\n",
    "\n",
    "= adalah operator assignment (untuk pemberian nilai).\n",
    "lhs (left-hand-side, di kiri =) harus selalu berupa nama variabel.\n",
    "Nama variable dibuat saat nilai pertama kali diberikan."
   ]
  },
  {
   "cell_type": "code",
   "execution_count": 4,
   "metadata": {},
   "outputs": [
    {
     "name": "stdout",
     "output_type": "stream",
     "text": [
      "12\n",
      "12\n"
     ]
    }
   ],
   "source": [
    "a=0\n",
    "a += 12 \n",
    "print(a)\n",
    "\n",
    "b=0\n",
    "b = b + 12\n",
    "print(b)"
   ]
  },
  {
   "cell_type": "markdown",
   "metadata": {},
   "source": [
    "## Operator logis: and, or, not\n",
    "## Operator bitwise: &, |, ^, <<, >>\n",
    "## Operator keanggotaan: in, not in\n",
    "## Operator identitas: is, is not"
   ]
  },
  {
   "cell_type": "code",
   "execution_count": 8,
   "metadata": {},
   "outputs": [
    {
     "name": "stdout",
     "output_type": "stream",
     "text": [
      "a dalah b True\n",
      "a bukan b False\n"
     ]
    }
   ],
   "source": [
    "#abc termasuk objek yang sama\n",
    "a = b = c = []\n",
    "print(\"a dalah b\",a is b)\n",
    "print(\"a bukan b\",a is not b)"
   ]
  },
  {
   "cell_type": "code",
   "execution_count": null,
   "metadata": {},
   "outputs": [],
   "source": []
  }
 ],
 "metadata": {
  "kernelspec": {
   "display_name": "Python 3",
   "language": "python",
   "name": "python3"
  },
  "language_info": {
   "codemirror_mode": {
    "name": "ipython",
    "version": 3
   },
   "file_extension": ".py",
   "mimetype": "text/x-python",
   "name": "python",
   "nbconvert_exporter": "python",
   "pygments_lexer": "ipython3",
   "version": "3.8.5"
  }
 },
 "nbformat": 4,
 "nbformat_minor": 4
}
