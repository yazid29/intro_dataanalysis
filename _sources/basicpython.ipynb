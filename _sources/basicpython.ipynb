{
 "cells": [
  {
   "cell_type": "markdown",
   "metadata": {},
   "source": [
    "## Install Python\n",
    "\n",
    "Sebelum memulai belajar Python pastikan harus sudah terinstall Python dikomputer. Python dapat diunduh secara gratis dari situs berikut: [python.org](https://www.python.org/).\n",
    "Python termasuk interpreter language, ini berarti bahwa sebagai pengembang menulis file python dalam format *.py di editor teks. Sederhananya kamu dapat menyimpan file .py dan jalankan file tersebut.\n",
    "\n",
    "Sebagai contoh:\n",
    "\n",
    "Namafile:basicpython.py\n",
    "```python\n",
    "print(\"Selamat Datang\")\n",
    "```\n",
    "Akan Menghasilkan\n",
    "```none\n",
    "Selamat Datang\n",
    "```"
   ]
  }
 ],
 "metadata": {
  "kernelspec": {
   "display_name": "Python 3",
   "language": "python",
   "name": "python3"
  },
  "language_info": {
   "codemirror_mode": {
    "name": "ipython",
    "version": 3
   },
   "file_extension": ".py",
   "mimetype": "text/x-python",
   "name": "python",
   "nbconvert_exporter": "python",
   "pygments_lexer": "ipython3",
   "version": "3.8.5"
  }
 },
 "nbformat": 4,
 "nbformat_minor": 4
}
